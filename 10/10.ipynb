{
 "cells": [
  {
   "cell_type": "code",
   "execution_count": null,
   "metadata": {},
   "outputs": [],
   "source": [
    "from mrjob.job import MRJob\n",
    "\n",
    "\n",
    "\n",
    "class MRmyjob(MRJob):\n",
    "    def mapper(self,_,line):\n",
    "\n",
    "        data = line.split(',')\n",
    "        date = data[1].strip()\n",
    "        votes = data[5].strip()\n",
    "        if date == '1936':\n",
    "            \n",
    "            yield \"votes\",votes\n",
    "\n",
    "\n",
    "\n",
    "    def reducer(self, key, list_of_values):\n",
    "        count = 0\n",
    "        total = 0\n",
    "        for x in list_of_values:\n",
    "            total = total + float(x);\n",
    "            count = count+1\n",
    "            avglen = (\"%.2f\" % (total / count))\n",
    "        yield key,avglen\n",
    "\n",
    "if __name__ == '__main__':\n",
    "    MRmyjob.run();"
   ]
  },
  {
   "cell_type": "code",
   "execution_count": null,
   "metadata": {},
   "outputs": [],
   "source": []
  }
 ],
 "metadata": {
  "kernelspec": {
   "display_name": "Python 3",
   "language": "python",
   "name": "python3"
  },
  "language_info": {
   "codemirror_mode": {
    "name": "ipython",
    "version": 3
   },
   "file_extension": ".py",
   "mimetype": "text/x-python",
   "name": "python",
   "nbconvert_exporter": "python",
   "pygments_lexer": "ipython3",
   "version": "3.6.5"
  }
 },
 "nbformat": 4,
 "nbformat_minor": 2
}
