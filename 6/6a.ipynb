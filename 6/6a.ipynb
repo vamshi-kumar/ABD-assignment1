{
 "cells": [
  {
   "cell_type": "code",
   "execution_count": null,
   "metadata": {},
   "outputs": [],
   "source": [
    "#6a) Write a map-reducer program to find the total count of the players\n",
    "\n",
    "from mrjob.job import MRJob\n",
    "from mrjob.job import MRStep\n",
    "\n",
    "class MRmyjob(MRJob):\n",
    "    def mapper1(self, _, line):\n",
    "        data = line.split(',')\n",
    "        \n",
    "        player_c = data[0].strip()\n",
    "        \n",
    "        #player_c = players[0:10]\n",
    "        \n",
    "        #if player_c == players:\n",
    "        yield player_c, 1\n",
    "        \n",
    "    def reducer2(self, key, list_of_values):\n",
    "        yield key, len(list(list_of_values))\n",
    "        \n",
    "        #print(list_of_values)\n",
    "    def reducer1(self, key, values):\n",
    "        yield \"Players count\", key\n",
    "        #yield key[0:10], 1\n",
    "     #   total = 0\n",
    "      #  for i in list_of_values:\n",
    "       #     total += 1 \n",
    "        #return key, total \n",
    "    def steps(self):\n",
    "        #return [MRStep(mapper=self.mapper1, combiner=self.reducer1, reducer=self.reducer2)]\n",
    "        return [MRStep(mapper=self.mapper1, reducer=self.reducer1), MRStep(reducer=self.reducer2)]\n",
    "        \n",
    "if __name__ == '__main__':\n",
    "    MRmyjob.run()"
   ]
  }
 ],
 "metadata": {
  "kernelspec": {
   "display_name": "Python 3",
   "language": "python",
   "name": "python3"
  },
  "language_info": {
   "codemirror_mode": {
    "name": "ipython",
    "version": 3
   },
   "file_extension": ".py",
   "mimetype": "text/x-python",
   "name": "python",
   "nbconvert_exporter": "python",
   "pygments_lexer": "ipython3",
   "version": "3.6.5"
  }
 },
 "nbformat": 4,
 "nbformat_minor": 2
}
