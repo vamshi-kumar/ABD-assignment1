{
 "cells": [
  {
   "cell_type": "code",
   "execution_count": null,
   "metadata": {},
   "outputs": [],
   "source": [
    "#8a)List the managers.\n",
    "from mrjob.job import MRJob\n",
    "\n",
    "\n",
    "\n",
    "class MRmyjob(MRJob):\n",
    "    def mapper(self,_,line):\n",
    "        data = line.split(',')\n",
    "        hofid = data[0].strip()\n",
    "        manager_list = data[7].strip()\n",
    "        if manager_list == 'Manager':\n",
    "            \n",
    "            yield hofid,None\n",
    "\n",
    "\n",
    "\n",
    "    def reducer(self, key, list_of_values):\n",
    "\n",
    "        yield \"manager\",key\n",
    "\n",
    "if __name__ == '__main__':\n",
    "    MRmyjob.run();"
   ]
  }
 ],
 "metadata": {
  "kernelspec": {
   "display_name": "Python 3",
   "language": "python",
   "name": "python3"
  },
  "language_info": {
   "codemirror_mode": {
    "name": "ipython",
    "version": 3
   },
   "file_extension": ".py",
   "mimetype": "text/x-python",
   "name": "python",
   "nbconvert_exporter": "python",
   "pygments_lexer": "ipython3",
   "version": "3.6.5"
  }
 },
 "nbformat": 4,
 "nbformat_minor": 2
}
