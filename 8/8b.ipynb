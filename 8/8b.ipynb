{
 "cells": [
  {
   "cell_type": "code",
   "execution_count": null,
   "metadata": {},
   "outputs": [],
   "source": [
    "#8b)Find the numbers of votes got year wise by \"chancfr01h\".\n",
    "\n",
    "from mrjob.job import MRJob\n",
    "\n",
    "\n",
    "\n",
    "class MRmyjob(MRJob):\n",
    "    def mapper(self,_,line):\n",
    "        \n",
    "        data = line.split(',')\n",
    "        hofid = data[0].strip()\n",
    "        year = data[1].strip()\n",
    "        votes = data[5].strip()\n",
    "        if hofid == 'chancfr01h':\n",
    "            try:\n",
    "                yield year,int(votes)\n",
    "            except:\n",
    "                yield year,0\n",
    "\n",
    "\n",
    "\n",
    "\n",
    "    def reducer(self, key, list_of_values):\n",
    "        yield key,sum(list_of_values)\n",
    "\n",
    "\n",
    "\n",
    "        \n",
    "\n",
    "if __name__ == '__main__':\n",
    "\tMRmyjob.run();"
   ]
  }
 ],
 "metadata": {
  "kernelspec": {
   "display_name": "Python 3",
   "language": "python",
   "name": "python3"
  },
  "language_info": {
   "codemirror_mode": {
    "name": "ipython",
    "version": 3
   },
   "file_extension": ".py",
   "mimetype": "text/x-python",
   "name": "python",
   "nbconvert_exporter": "python",
   "pygments_lexer": "ipython3",
   "version": "3.6.5"
  }
 },
 "nbformat": 4,
 "nbformat_minor": 2
}
