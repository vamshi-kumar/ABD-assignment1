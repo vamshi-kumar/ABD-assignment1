{
 "cells": [
  {
   "cell_type": "code",
   "execution_count": null,
   "metadata": {},
   "outputs": [],
   "source": [
    "#8c)Count the votes got by each person overall.\n",
    "\n",
    "from mrjob.job import MRJob\n",
    "\n",
    "\n",
    "\n",
    "class MRmyjob(MRJob):\n",
    "    def mapper(self,_,line):\n",
    "\n",
    "        data = line.split(',')\n",
    "        hofid = data[0].strip()\n",
    "\n",
    "        votes = data[5].strip()\n",
    "        try:\n",
    "            yield hofid,int(votes)\n",
    "        except:\n",
    "            yield hofid,0\n",
    "    \n",
    "    def reducer(self,key,list_of_values):\n",
    "\n",
    "        yield key,sum(list_of_values)\n",
    "\n",
    "\n",
    "if __name__ == '__main__':\n",
    "    MRmyjob.run();"
   ]
  }
 ],
 "metadata": {
  "kernelspec": {
   "display_name": "Python 3",
   "language": "python",
   "name": "python3"
  },
  "language_info": {
   "codemirror_mode": {
    "name": "ipython",
    "version": 3
   },
   "file_extension": ".py",
   "mimetype": "text/x-python",
   "name": "python",
   "nbconvert_exporter": "python",
   "pygments_lexer": "ipython3",
   "version": "3.6.5"
  }
 },
 "nbformat": 4,
 "nbformat_minor": 2
}
